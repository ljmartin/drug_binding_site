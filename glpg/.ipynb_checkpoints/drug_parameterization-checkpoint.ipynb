{
 "cells": [
  {
   "cell_type": "code",
   "execution_count": 1,
   "metadata": {},
   "outputs": [
    {
     "name": "stderr",
     "output_type": "stream",
     "text": [
      "Warning: Unable to load toolkit 'OpenEye Toolkit'. The Open Force Field Toolkit does not require the OpenEye Toolkits, and can use RDKit/AmberTools instead. However, if you have a valid license for the OpenEye Toolkits, consider installing them for faster performance and additional file format support: https://docs.eyesopen.com/toolkits/python/quickstart-python/linuxosx.html OpenEye offers free Toolkit licenses for academics: https://www.eyesopen.com/academic-licensing\n"
     ]
    },
    {
     "name": "stdout",
     "output_type": "stream",
     "text": [
      "you got numpy\n"
     ]
    }
   ],
   "source": [
    "import parmed\n",
    "import numpy as np\n",
    "import itertools\n",
    "\n",
    "from pdbfixer import PDBFixer\n",
    "from simtk.openmm.app import *\n",
    "from simtk.openmm import *\n",
    "from simtk.unit import *\n",
    "\n",
    "from rdkit import Chem\n",
    "from rdkit.Chem import rdmolfiles\n",
    "from rdkit.Chem import AllChem\n",
    "\n",
    "from sys import stdout\n",
    "\n",
    "from openforcefield.topology import Molecule, Topology\n",
    "from openforcefield.typing.engines.smirnoff import ForceField\n",
    "from pkg_resources import iter_entry_points"
   ]
  },
  {
   "cell_type": "code",
   "execution_count": 2,
   "metadata": {},
   "outputs": [],
   "source": [
    "import simtk.openmm"
   ]
  },
  {
   "cell_type": "code",
   "execution_count": 3,
   "metadata": {},
   "outputs": [
    {
     "name": "stdout",
     "output_type": "stream",
     "text": [
      "0.5.1\n"
     ]
    }
   ],
   "source": [
    "import openforcefield\n",
    "print(openforcefield.__version__)"
   ]
  },
  {
   "cell_type": "code",
   "execution_count": 4,
   "metadata": {},
   "outputs": [
    {
     "name": "stdout",
     "output_type": "stream",
     "text": [
      "['/home/lewis/.cache/Python-Eggs/openforcefields-1.0.0-py3.7.egg-tmp/openforcefields/offxml']\n",
      "['/home/lewis/.cache/Python-Eggs/smirnoff99frosst-1.1.0-py3.7.egg-tmp/smirnoff99frosst/offxml']\n"
     ]
    }
   ],
   "source": [
    "for entry_point in iter_entry_points(group='openforcefield.smirnoff_forcefield_directory'):\n",
    "     print(entry_point.load()())\n",
    "        \n",
    "ff = ForceField('openff_unconstrained-1.0.0.offxml')"
   ]
  },
  {
   "cell_type": "code",
   "execution_count": 5,
   "metadata": {},
   "outputs": [],
   "source": [
    "mol = Chem.MolFromSmiles('COC(=O)Cc1ccc(N)cc1C(O)=O')\n",
    "mol=Chem.AddHs(mol)\n",
    "AllChem.EmbedMolecule(mol)\n",
    "Chem.rdmolfiles.MolToPDBFile(mol, './data/drug.pdb')\n",
    "\n",
    "drug_pdbfile = PDBFile('./data/drug.pdb')\n",
    "drug = Molecule.from_smiles('COC(=O)Cc1ccc(N)cc1C(O)=O')\n",
    "\n",
    "off_topology = Topology.from_openmm(openmm_topology=drug_pdbfile.topology,\n",
    "                                   unique_molecules=[drug])"
   ]
  },
  {
   "cell_type": "code",
   "execution_count": 6,
   "metadata": {
    "scrolled": true
   },
   "outputs": [
    {
     "name": "stderr",
     "output_type": "stream",
     "text": [
      "Warning: In AmberToolsToolkitwrapper.compute_partial_charges_am1bcc: Molecule '' has more than one conformer, but this function will only generate charges for the first one.\n"
     ]
    }
   ],
   "source": [
    "drug_system = ff.create_openmm_system(off_topology)\n"
   ]
  },
  {
   "cell_type": "code",
   "execution_count": 7,
   "metadata": {},
   "outputs": [],
   "source": [
    "##Writing an XML file."
   ]
  },
  {
   "cell_type": "code",
   "execution_count": 8,
   "metadata": {},
   "outputs": [],
   "source": [
    "with open('./data/drug_system.xml', 'w') as f:\n",
    "    f.write(\n",
    "            XmlSerializer.serialize(\n",
    "                drug_system\n",
    "            )\n",
    "    )"
   ]
  }
 ],
 "metadata": {
  "kernelspec": {
   "display_name": "Python 3",
   "language": "python",
   "name": "python3"
  },
  "language_info": {
   "codemirror_mode": {
    "name": "ipython",
    "version": 3
   },
   "file_extension": ".py",
   "mimetype": "text/x-python",
   "name": "python",
   "nbconvert_exporter": "python",
   "pygments_lexer": "ipython3",
   "version": "3.7.3"
  }
 },
 "nbformat": 4,
 "nbformat_minor": 2
}
