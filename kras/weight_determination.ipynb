{
 "cells": [
  {
   "cell_type": "code",
   "execution_count": 1,
   "metadata": {},
   "outputs": [
    {
     "name": "stdout",
     "output_type": "stream",
     "text": [
      "you got numpy\n"
     ]
    }
   ],
   "source": [
    "from simtk.openmm.app import *\n",
    "from simtk.openmm import *\n",
    "from simtk.unit import *\n",
    "from sys import stdout, exit, stderr\n",
    "import numpy as np\n",
    "from tqdm import tqdm\n",
    "\n",
    "from tqdm import tqdm_notebook"
   ]
  },
  {
   "cell_type": "code",
   "execution_count": 2,
   "metadata": {},
   "outputs": [],
   "source": [
    "input_name = 'solvated_equilibrated'\n",
    "output_name = 'st_kras_0'"
   ]
  },
  {
   "cell_type": "markdown",
   "metadata": {},
   "source": [
    "# Load up restart files"
   ]
  },
  {
   "cell_type": "code",
   "execution_count": 3,
   "metadata": {},
   "outputs": [],
   "source": [
    "\n",
    "pdb = PDBFile('./output.pdb')\n",
    "complex_state = XmlSerializer.deserialize(open(input_name+'_state.xml').read())\n",
    "complex_system = XmlSerializer.deserialize(open(input_name+'_system.xml').read())\n",
    "\n"
   ]
  },
  {
   "cell_type": "markdown",
   "metadata": {},
   "source": [
    "# Before doing anything: delete the protein restraint. \n",
    "It was the last force that was added so just remove the -1th force:"
   ]
  },
  {
   "cell_type": "code",
   "execution_count": 4,
   "metadata": {},
   "outputs": [
    {
     "name": "stdout",
     "output_type": "stream",
     "text": [
      "[<simtk.openmm.openmm.HarmonicBondForce; proxy of <Swig Object of type 'OpenMM::HarmonicBondForce *' at 0x7fa5a803edb0> >, <simtk.openmm.openmm.HarmonicAngleForce; proxy of <Swig Object of type 'OpenMM::HarmonicAngleForce *' at 0x7fa5a803ee40> >, <simtk.openmm.openmm.PeriodicTorsionForce; proxy of <Swig Object of type 'OpenMM::PeriodicTorsionForce *' at 0x7fa5a803ee70> >, <simtk.openmm.openmm.NonbondedForce; proxy of <Swig Object of type 'OpenMM::NonbondedForce *' at 0x7fa5a803eea0> >, <simtk.openmm.openmm.CustomGBForce; proxy of <Swig Object of type 'OpenMM::CustomGBForce *' at 0x7fa5a803eed0> >, <simtk.openmm.openmm.CMMotionRemover; proxy of <Swig Object of type 'OpenMM::CMMotionRemover *' at 0x7fa5a803ef00> >, <simtk.openmm.openmm.CustomNonbondedForce; proxy of <Swig Object of type 'OpenMM::CustomNonbondedForce *' at 0x7fa5a803ef30> >, <simtk.openmm.openmm.CustomCentroidBondForce; proxy of <Swig Object of type 'OpenMM::CustomCentroidBondForce *' at 0x7fa5a803ef60> >, <simtk.openmm.openmm.CustomExternalForce; proxy of <Swig Object of type 'OpenMM::CustomExternalForce *' at 0x7fa5a803ef90> >]\n"
     ]
    }
   ],
   "source": [
    "forces = complex_system.getForces()\n",
    "print([i for i in forces])\n",
    "complex_system.removeForce(len(forces)-1)"
   ]
  },
  {
   "cell_type": "code",
   "execution_count": 5,
   "metadata": {},
   "outputs": [
    {
     "data": {
      "text/plain": [
       "8"
      ]
     },
     "execution_count": 5,
     "metadata": {},
     "output_type": "execute_result"
    }
   ],
   "source": [
    "##add a carbon alpha restraint to keep the protein unfolding:                                                                                                                         \n",
    "force1 = CustomExternalForce(\"k1*((x-x0)^2+(y-y0)^2+(z-z0)^2)\")                                                                                                        \n",
    "force1.addGlobalParameter(\"k1\", 0.1*kilocalories_per_mole/angstroms**2)                                                                                                           \n",
    "force1.addPerParticleParameter(\"x0\")                                                                                                                                              \n",
    "force1.addPerParticleParameter(\"y0\")                                                                                                                                              \n",
    "force1.addPerParticleParameter(\"z0\")                                                                                                                                              \n",
    "for i, z in zip(pdb.topology.atoms(), complex_state.getPositions()):                                                                                                                        \n",
    "    if i.name=='CA':                                                                                                                                                              \n",
    "        force1.addParticle(int(i.index), [z[0], z[1], z[2]])                                                                                                                      \n",
    "\n",
    "complex_system.addForce(force1)              "
   ]
  },
  {
   "cell_type": "markdown",
   "metadata": {},
   "source": [
    "Set up the simulation object, using the special grest integrator:"
   ]
  },
  {
   "cell_type": "code",
   "execution_count": 6,
   "metadata": {},
   "outputs": [],
   "source": [
    "\n",
    "integrator = LangevinIntegrator(310*kelvin, 1/picosecond, 0.002*picoseconds)\n",
    "\n",
    "platform = Platform.getPlatformByName('CUDA')\n",
    "prop = {'CudaPrecision':'single', 'CudaDeviceIndex':'0'}\n",
    "simulation = Simulation(pdb.topology, complex_system, integrator, platform, prop)"
   ]
  },
  {
   "cell_type": "markdown",
   "metadata": {},
   "source": [
    "Reporter and load the state object (i.e. restart)"
   ]
  },
  {
   "cell_type": "code",
   "execution_count": 7,
   "metadata": {},
   "outputs": [
    {
     "name": "stdout",
     "output_type": "stream",
     "text": [
      "loadstate\n"
     ]
    }
   ],
   "source": [
    "simulation.reporters.append(DCDReporter(output_name+'_traj.dcd', 125000))\n",
    "simulation.reporters.append(StateDataReporter(output_name+'.log', 10000,\n",
    "                                              step=True,\n",
    "                                              time=True,\n",
    "                                              potentialEnergy=True,\n",
    "                                              temperature=True,\n",
    "                                              totalSteps=5000000,\n",
    "                                              speed=True))\n",
    "\n",
    "\n",
    "print('loadstate')\n",
    "simulation.loadState(input_name+'_state.xml')\n"
   ]
  },
  {
   "cell_type": "code",
   "execution_count": 8,
   "metadata": {},
   "outputs": [
    {
     "name": "stdout",
     "output_type": "stream",
     "text": [
      "0.0001\n",
      "lewis\n"
     ]
    }
   ],
   "source": [
    "st = SimulatedTempering(simulation,\n",
    "                            numTemperatures=30,\n",
    "                            tempChangeInterval=5,\n",
    "                            minTemperature=310*kelvin,\n",
    "                            maxTemperature=360*kelvin,\n",
    "                            reportInterval=500,\n",
    "                            reportFile=(str(output_name)+'_temp.dat'))\n"
   ]
  },
  {
   "cell_type": "code",
   "execution_count": 9,
   "metadata": {},
   "outputs": [],
   "source": [
    "st.cutoff = 1e-8"
   ]
  },
  {
   "cell_type": "code",
   "execution_count": null,
   "metadata": {},
   "outputs": [
    {
     "data": {
      "application/vnd.jupyter.widget-view+json": {
       "model_id": "30b86242b38041d78133ff47de1c702d",
       "version_major": 2,
       "version_minor": 0
      },
      "text/plain": [
       "HBox(children=(IntProgress(value=0, max=75000), HTML(value='')))"
      ]
     },
     "metadata": {},
     "output_type": "display_data"
    },
    {
     "name": "stdout",
     "output_type": "stream",
     "text": [
      "0.00048828125 True 0.04 [-0.3, 26.0, 52.0, 77.7, 103.1, 128.1, 152.9, 177.3, 201.4, 225.3, 248.8, 272.0, 294.9, 317.7, 340.1, 362.2, 384.1, 405.7, 427.1, 448.2, 469.0, 489.5, 509.8, 529.8, 549.6, 569.1, 588.3, 607.3, 626.0, 644.5]65.0, -33.0, -33.0]-1024.0, -1024.0, -960.0, -960.0]\r"
     ]
    }
   ],
   "source": [
    "num_nano = 150\n",
    "for i in tqdm_notebook(range(500*num_nano)):\n",
    "    st.step(1000)\n",
    "    if st._updateWeights==False:\n",
    "        break\n",
    "    print(st._weightUpdateFactor, \n",
    "          st._updateWeights, \n",
    "          str(np.around(i / (500*num_nano), 2)), \n",
    "          [np.around(i,1) for i in st._weights], end='\\r')"
   ]
  },
  {
   "cell_type": "code",
   "execution_count": null,
   "metadata": {},
   "outputs": [],
   "source": [
    "with open(output_name+'_system.xml', 'w') as f:\n",
    "    f.write(\n",
    "            XmlSerializer.serialize(\n",
    "                complex_system\n",
    "            )\n",
    "    )\n",
    "\n",
    "simulation.saveState(output_name+'_state.xml')\n"
   ]
  },
  {
   "cell_type": "code",
   "execution_count": null,
   "metadata": {},
   "outputs": [],
   "source": []
  }
 ],
 "metadata": {
  "kernelspec": {
   "display_name": "Python 3",
   "language": "python",
   "name": "python3"
  },
  "language_info": {
   "codemirror_mode": {
    "name": "ipython",
    "version": 3
   },
   "file_extension": ".py",
   "mimetype": "text/x-python",
   "name": "python",
   "nbconvert_exporter": "python",
   "pygments_lexer": "ipython3",
   "version": "3.7.3"
  }
 },
 "nbformat": 4,
 "nbformat_minor": 2
}
